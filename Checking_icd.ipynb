{
  "nbformat": 4,
  "nbformat_minor": 0,
  "metadata": {
    "colab": {
      "provenance": [],
      "authorship_tag": "ABX9TyOFzN40drqHRyYHIASFX4XV",
      "include_colab_link": true
    },
    "kernelspec": {
      "name": "python3",
      "display_name": "Python 3"
    },
    "language_info": {
      "name": "python"
    }
  },
  "cells": [
    {
      "cell_type": "markdown",
      "metadata": {
        "id": "view-in-github",
        "colab_type": "text"
      },
      "source": [
        "<a href=\"https://colab.research.google.com/github/selengetu/Motion_Lab_Data_Integration/blob/main/Checking_icd.ipynb\" target=\"_parent\"><img src=\"https://colab.research.google.com/assets/colab-badge.svg\" alt=\"Open In Colab\"/></a>"
      ]
    },
    {
      "cell_type": "code",
      "execution_count": 9,
      "metadata": {
        "colab": {
          "base_uri": "https://localhost:8080/"
        },
        "id": "acWJ_WnMPaNk",
        "outputId": "4697c797-5491-47b6-e697-fd8072a541cc"
      },
      "outputs": [
        {
          "output_type": "stream",
          "name": "stdout",
          "text": [
            "First few rows of the CSV file:\n",
            "  Main_id_2 Main_code Main_code_2  \\\n",
            "0       A00         0        A000   \n",
            "1       A00         1        A001   \n",
            "2       A00         9        A009   \n",
            "3      A010         0       A0100   \n",
            "4      A010         1       A0101   \n",
            "\n",
            "                                           Main_name  \\\n",
            "0  Cholera due to Vibrio cholerae 01, biovar chol...   \n",
            "1    Cholera due to Vibrio cholerae 01, biovar eltor   \n",
            "2                               Cholera, unspecified   \n",
            "3                         Typhoid fever, unspecified   \n",
            "4                                 Typhoid meningitis   \n",
            "\n",
            "                                         Main_name_2      Main_type  \n",
            "0  Cholera due to Vibrio cholerae 01, biovar chol...        Cholera  \n",
            "1    Cholera due to Vibrio cholerae 01, biovar eltor        Cholera  \n",
            "2                               Cholera, unspecified        Cholera  \n",
            "3                         Typhoid fever, unspecified  Typhoid fever  \n",
            "4                                 Typhoid meningitis  Typhoid fever  \n",
            "\n",
            "Data types of each column:\n",
            "Main_id_2      object\n",
            "Main_code      object\n",
            "Main_code_2    object\n",
            "Main_name      object\n",
            "Main_name_2    object\n",
            "Main_type      object\n",
            "dtype: object\n"
          ]
        }
      ],
      "source": [
        "import pandas as pd\n",
        "\n",
        "# Path to your CSV file\n",
        "csv_file_path = 'codes.csv'\n",
        "\n",
        "# Define column data types, setting Main_code to float initially to handle NaNs\n",
        "dtype_dict = {\n",
        "    'Main_id_2': str,\n",
        "    'Main_code': str,\n",
        "    'Main_code_2': str,\n",
        "    'Main_name': str,\n",
        "    'Main_name_2': str,\n",
        "    'Main_type': str\n",
        "}\n",
        "\n",
        "# Read the CSV file into a DataFrame with specified data types\n",
        "df = pd.read_csv(csv_file_path, dtype=dtype_dict)\n",
        "\n",
        "# Print the first few rows of the DataFrame\n",
        "print(\"First few rows of the CSV file:\")\n",
        "print(df.head())\n",
        "\n",
        "# Check and print the data types of each column\n",
        "print(\"\\nData types of each column:\")\n",
        "print(df.dtypes)\n"
      ]
    }
  ]
}